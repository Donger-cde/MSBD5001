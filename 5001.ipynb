{
 "cells": [
  {
   "cell_type": "code",
   "execution_count": 1,
   "metadata": {},
   "outputs": [
    {
     "name": "stderr",
     "output_type": "stream",
     "text": [
      "/anaconda3/lib/python3.6/site-packages/h5py/__init__.py:36: FutureWarning: Conversion of the second argument of issubdtype from `float` to `np.floating` is deprecated. In future, it will be treated as `np.float64 == np.dtype(float).type`.\n",
      "  from ._conv import register_converters as _register_converters\n",
      "Using TensorFlow backend.\n"
     ]
    },
    {
     "name": "stdout",
     "output_type": "stream",
     "text": [
      "1.9.0\n"
     ]
    },
    {
     "data": {
      "text/html": [
       "<div>\n",
       "<style scoped>\n",
       "    .dataframe tbody tr th:only-of-type {\n",
       "        vertical-align: middle;\n",
       "    }\n",
       "\n",
       "    .dataframe tbody tr th {\n",
       "        vertical-align: top;\n",
       "    }\n",
       "\n",
       "    .dataframe thead th {\n",
       "        text-align: right;\n",
       "    }\n",
       "</style>\n",
       "<table border=\"1\" class=\"dataframe\">\n",
       "  <thead>\n",
       "    <tr style=\"text-align: right;\">\n",
       "      <th></th>\n",
       "      <th>id</th>\n",
       "      <th>penalty</th>\n",
       "      <th>l1_ratio</th>\n",
       "      <th>alpha</th>\n",
       "      <th>max_iter</th>\n",
       "      <th>random_state</th>\n",
       "      <th>n_jobs</th>\n",
       "      <th>n_samples</th>\n",
       "      <th>n_features</th>\n",
       "      <th>n_classes</th>\n",
       "      <th>n_clusters_per_class</th>\n",
       "      <th>n_informative</th>\n",
       "      <th>flip_y</th>\n",
       "      <th>scale</th>\n",
       "    </tr>\n",
       "  </thead>\n",
       "  <tbody>\n",
       "    <tr>\n",
       "      <th>0</th>\n",
       "      <td>0</td>\n",
       "      <td>l2</td>\n",
       "      <td>0.690384</td>\n",
       "      <td>0.001</td>\n",
       "      <td>602</td>\n",
       "      <td>890</td>\n",
       "      <td>4</td>\n",
       "      <td>1376</td>\n",
       "      <td>1078</td>\n",
       "      <td>3</td>\n",
       "      <td>4</td>\n",
       "      <td>8</td>\n",
       "      <td>0.049072</td>\n",
       "      <td>40.832757</td>\n",
       "    </tr>\n",
       "    <tr>\n",
       "      <th>1</th>\n",
       "      <td>1</td>\n",
       "      <td>elasticnet</td>\n",
       "      <td>0.215088</td>\n",
       "      <td>0.001</td>\n",
       "      <td>522</td>\n",
       "      <td>357</td>\n",
       "      <td>4</td>\n",
       "      <td>598</td>\n",
       "      <td>1528</td>\n",
       "      <td>10</td>\n",
       "      <td>3</td>\n",
       "      <td>11</td>\n",
       "      <td>0.041393</td>\n",
       "      <td>68.611537</td>\n",
       "    </tr>\n",
       "    <tr>\n",
       "      <th>2</th>\n",
       "      <td>2</td>\n",
       "      <td>l2</td>\n",
       "      <td>0.217458</td>\n",
       "      <td>0.001</td>\n",
       "      <td>398</td>\n",
       "      <td>105</td>\n",
       "      <td>16</td>\n",
       "      <td>553</td>\n",
       "      <td>1008</td>\n",
       "      <td>8</td>\n",
       "      <td>5</td>\n",
       "      <td>8</td>\n",
       "      <td>0.005987</td>\n",
       "      <td>61.713892</td>\n",
       "    </tr>\n",
       "    <tr>\n",
       "      <th>3</th>\n",
       "      <td>3</td>\n",
       "      <td>none</td>\n",
       "      <td>0.120303</td>\n",
       "      <td>0.001</td>\n",
       "      <td>439</td>\n",
       "      <td>586</td>\n",
       "      <td>16</td>\n",
       "      <td>1977</td>\n",
       "      <td>1319</td>\n",
       "      <td>3</td>\n",
       "      <td>4</td>\n",
       "      <td>10</td>\n",
       "      <td>0.002964</td>\n",
       "      <td>58.631194</td>\n",
       "    </tr>\n",
       "    <tr>\n",
       "      <th>4</th>\n",
       "      <td>4</td>\n",
       "      <td>none</td>\n",
       "      <td>0.458851</td>\n",
       "      <td>0.010</td>\n",
       "      <td>278</td>\n",
       "      <td>246</td>\n",
       "      <td>4</td>\n",
       "      <td>1826</td>\n",
       "      <td>1530</td>\n",
       "      <td>7</td>\n",
       "      <td>5</td>\n",
       "      <td>8</td>\n",
       "      <td>0.050126</td>\n",
       "      <td>87.315374</td>\n",
       "    </tr>\n",
       "  </tbody>\n",
       "</table>\n",
       "</div>"
      ],
      "text/plain": [
       "   id     penalty  l1_ratio  alpha  max_iter  random_state  n_jobs  n_samples  \\\n",
       "0   0          l2  0.690384  0.001       602           890       4       1376   \n",
       "1   1  elasticnet  0.215088  0.001       522           357       4        598   \n",
       "2   2          l2  0.217458  0.001       398           105      16        553   \n",
       "3   3        none  0.120303  0.001       439           586      16       1977   \n",
       "4   4        none  0.458851  0.010       278           246       4       1826   \n",
       "\n",
       "   n_features  n_classes  n_clusters_per_class  n_informative    flip_y  \\\n",
       "0        1078          3                     4              8  0.049072   \n",
       "1        1528         10                     3             11  0.041393   \n",
       "2        1008          8                     5              8  0.005987   \n",
       "3        1319          3                     4             10  0.002964   \n",
       "4        1530          7                     5              8  0.050126   \n",
       "\n",
       "       scale  \n",
       "0  40.832757  \n",
       "1  68.611537  \n",
       "2  61.713892  \n",
       "3  58.631194  \n",
       "4  87.315374  "
      ]
     },
     "execution_count": 1,
     "metadata": {},
     "output_type": "execute_result"
    }
   ],
   "source": [
    "import pandas as pd\n",
    "import numpy as np\n",
    "import seaborn as sns\n",
    "import matplotlib.pyplot as plt\n",
    "import math\n",
    "from scipy.stats import norm, skew\n",
    "from scipy.special import boxcox1p\n",
    "from keras import optimizers\n",
    "from keras.models import Sequential\n",
    "from keras.layers import Dense,BatchNormalization,Dropout,Reshape,Flatten\n",
    "from keras.layers.convolutional import Conv2D,MaxPooling2D,Conv1D,MaxPooling1D\n",
    "import tensorflow as tf\n",
    "from tensorflow import keras\n",
    "\n",
    "print(tf.__version__)\n",
    "\n",
    "test_feature = pd.read_csv('test.csv')\n",
    "train_data = pd.read_csv('train.csv')\n",
    "test_feature.head()"
   ]
  },
  {
   "cell_type": "code",
   "execution_count": 2,
   "metadata": {},
   "outputs": [
    {
     "data": {
      "text/plain": [
       "<matplotlib.axes._subplots.AxesSubplot at 0x1a278f2a58>"
      ]
     },
     "execution_count": 2,
     "metadata": {},
     "output_type": "execute_result"
    },
    {
     "data": {
      "image/png": "[encoded data removed]",
      "text/plain": [
       "<matplotlib.figure.Figure at 0x1a278f2390>"
      ]
     },
     "metadata": {},
     "output_type": "display_data"
    }
   ],
   "source": [
    "#The distribution of time \n",
    "f, ax = plt.subplots(figsize=(8, 6))\n",
    "sns.distplot(train_data['time'])"
   ]
  },
  {
   "cell_type": "code",
   "execution_count": 3,
   "metadata": {},
   "outputs": [],
   "source": [
    "train_data.drop(columns='id',inplace=True)\n",
    "test_feature.drop(columns='id',inplace=True)"
   ]
  },
  {
   "cell_type": "code",
   "execution_count": 4,
   "metadata": {},
   "outputs": [],
   "source": [
    "def function(a, b):\n",
    "    if b == 'elasticnet':\n",
    "        return a\n",
    "    else:\n",
    "        return 0\n",
    "\n",
    "train_data['l1_ratio']= train_data.apply(lambda x: function(x.l1_ratio,x.penalty),axis = 1)\n",
    "test_feature['l1_ratio']= test_feature.apply(lambda x: function(x.l1_ratio,x.penalty),axis = 1)\n",
    "\n",
    "train_data.drop(columns='scale',inplace=True)\n",
    "test_feature.drop(columns='scale',inplace=True)\n",
    "\n",
    "train_data.drop(columns='random_state',inplace=True)\n",
    "test_feature.drop(columns='random_state',inplace=True)"
   ]
  },
  {
   "cell_type": "code",
   "execution_count": 5,
   "metadata": {},
   "outputs": [],
   "source": [
    "train_data = pd.get_dummies(train_data)\n",
    "test_feature= pd.get_dummies(test_feature)"
   ]
  },
  {
   "cell_type": "code",
   "execution_count": 6,
   "metadata": {},
   "outputs": [],
   "source": [
    "def fun2(x):\n",
    "    if x == -1:\n",
    "        return 16\n",
    "    else:\n",
    "        return x\n",
    "train_data['n_jobs']= train_data['n_jobs'].apply(lambda x: fun2(x))\n",
    "test_feature['n_jobs']= test_feature['n_jobs'].apply(lambda x: fun2(x))"
   ]
  },
  {
   "cell_type": "code",
   "execution_count": 7,
   "metadata": {},
   "outputs": [
    {
     "data": {
      "text/html": [
       "<div>\n",
       "<style scoped>\n",
       "    .dataframe tbody tr th:only-of-type {\n",
       "        vertical-align: middle;\n",
       "    }\n",
       "\n",
       "    .dataframe tbody tr th {\n",
       "        vertical-align: top;\n",
       "    }\n",
       "\n",
       "    .dataframe thead th {\n",
       "        text-align: right;\n",
       "    }\n",
       "</style>\n",
       "<table border=\"1\" class=\"dataframe\">\n",
       "  <thead>\n",
       "    <tr style=\"text-align: right;\">\n",
       "      <th></th>\n",
       "      <th>l1_ratio</th>\n",
       "      <th>alpha</th>\n",
       "      <th>max_iter</th>\n",
       "      <th>n_jobs</th>\n",
       "      <th>n_samples</th>\n",
       "      <th>n_features</th>\n",
       "      <th>n_classes</th>\n",
       "      <th>n_clusters_per_class</th>\n",
       "      <th>n_informative</th>\n",
       "      <th>flip_y</th>\n",
       "      <th>penalty_elasticnet</th>\n",
       "      <th>penalty_l1</th>\n",
       "      <th>penalty_l2</th>\n",
       "      <th>penalty_none</th>\n",
       "    </tr>\n",
       "  </thead>\n",
       "  <tbody>\n",
       "    <tr>\n",
       "      <th>0</th>\n",
       "      <td>0.000000</td>\n",
       "      <td>0.0001</td>\n",
       "      <td>417</td>\n",
       "      <td>16</td>\n",
       "      <td>1089</td>\n",
       "      <td>327</td>\n",
       "      <td>4</td>\n",
       "      <td>3</td>\n",
       "      <td>7</td>\n",
       "      <td>0.074798</td>\n",
       "      <td>0</td>\n",
       "      <td>0</td>\n",
       "      <td>0</td>\n",
       "      <td>1</td>\n",
       "    </tr>\n",
       "    <tr>\n",
       "      <th>1</th>\n",
       "      <td>0.000000</td>\n",
       "      <td>0.0010</td>\n",
       "      <td>578</td>\n",
       "      <td>1</td>\n",
       "      <td>790</td>\n",
       "      <td>373</td>\n",
       "      <td>4</td>\n",
       "      <td>5</td>\n",
       "      <td>7</td>\n",
       "      <td>0.077781</td>\n",
       "      <td>0</td>\n",
       "      <td>1</td>\n",
       "      <td>0</td>\n",
       "      <td>0</td>\n",
       "    </tr>\n",
       "    <tr>\n",
       "      <th>2</th>\n",
       "      <td>0.000000</td>\n",
       "      <td>0.0100</td>\n",
       "      <td>588</td>\n",
       "      <td>2</td>\n",
       "      <td>428</td>\n",
       "      <td>1198</td>\n",
       "      <td>2</td>\n",
       "      <td>5</td>\n",
       "      <td>6</td>\n",
       "      <td>0.030196</td>\n",
       "      <td>0</td>\n",
       "      <td>0</td>\n",
       "      <td>0</td>\n",
       "      <td>1</td>\n",
       "    </tr>\n",
       "    <tr>\n",
       "      <th>3</th>\n",
       "      <td>0.000000</td>\n",
       "      <td>0.0010</td>\n",
       "      <td>829</td>\n",
       "      <td>4</td>\n",
       "      <td>877</td>\n",
       "      <td>313</td>\n",
       "      <td>6</td>\n",
       "      <td>5</td>\n",
       "      <td>7</td>\n",
       "      <td>0.057261</td>\n",
       "      <td>0</td>\n",
       "      <td>0</td>\n",
       "      <td>0</td>\n",
       "      <td>1</td>\n",
       "    </tr>\n",
       "    <tr>\n",
       "      <th>4</th>\n",
       "      <td>0.395049</td>\n",
       "      <td>0.0010</td>\n",
       "      <td>167</td>\n",
       "      <td>2</td>\n",
       "      <td>216</td>\n",
       "      <td>644</td>\n",
       "      <td>8</td>\n",
       "      <td>5</td>\n",
       "      <td>11</td>\n",
       "      <td>0.073728</td>\n",
       "      <td>1</td>\n",
       "      <td>0</td>\n",
       "      <td>0</td>\n",
       "      <td>0</td>\n",
       "    </tr>\n",
       "  </tbody>\n",
       "</table>\n",
       "</div>"
      ],
      "text/plain": [
       "   l1_ratio   alpha  max_iter  n_jobs  n_samples  n_features  n_classes  \\\n",
       "0  0.000000  0.0001       417      16       1089         327          4   \n",
       "1  0.000000  0.0010       578       1        790         373          4   \n",
       "2  0.000000  0.0100       588       2        428        1198          2   \n",
       "3  0.000000  0.0010       829       4        877         313          6   \n",
       "4  0.395049  0.0010       167       2        216         644          8   \n",
       "\n",
       "   n_clusters_per_class  n_informative    flip_y  penalty_elasticnet  \\\n",
       "0                     3              7  0.074798                   0   \n",
       "1                     5              7  0.077781                   0   \n",
       "2                     5              6  0.030196                   0   \n",
       "3                     5              7  0.057261                   0   \n",
       "4                     5             11  0.073728                   1   \n",
       "\n",
       "   penalty_l1  penalty_l2  penalty_none  \n",
       "0           0           0             1  \n",
       "1           1           0             0  \n",
       "2           0           0             1  \n",
       "3           0           0             1  \n",
       "4           0           0             0  "
      ]
     },
     "execution_count": 7,
     "metadata": {},
     "output_type": "execute_result"
    }
   ],
   "source": [
    "train_data['time']= train_data['time'].apply(lambda x: math.log(x))\n",
    "train_Y = train_data['time']\n",
    "train_data.drop(columns='time',inplace=True)\n",
    "train_X = train_data\n",
    "train_X.head()"
   ]
  },
  {
   "cell_type": "code",
   "execution_count": 8,
   "metadata": {},
   "outputs": [
    {
     "data": {
      "text/plain": [
       "<matplotlib.axes._subplots.AxesSubplot at 0x1a2797b6d8>"
      ]
     },
     "execution_count": 8,
     "metadata": {},
     "output_type": "execute_result"
    },
    {
     "data": {
      "image/png": "[encoded data removed]",
      "text/plain": [
       "<matplotlib.figure.Figure at 0x10394dc50>"
      ]
     },
     "metadata": {},
     "output_type": "display_data"
    }
   ],
   "source": [
    "f, ax = plt.subplots(figsize=(8, 6))\n",
    "sns.distplot(train_Y)"
   ]
  },
  {
   "cell_type": "code",
   "execution_count": 9,
   "metadata": {},
   "outputs": [],
   "source": [
    "def func_c(a,b):\n",
    "    return a*b\n",
    "train_data['n_cluster']= train_data.apply(lambda x: func_c(x.n_clusters_per_class,x.n_classes),axis = 1)\n",
    "test_feature['n_cluster']= test_feature.apply(lambda x: func_c(x.n_clusters_per_class,x.n_classes),axis = 1)\n"
   ]
  },
  {
   "cell_type": "code",
   "execution_count": 10,
   "metadata": {},
   "outputs": [],
   "source": [
    "def function( b,c,d,e):\n",
    "    return b*c*d/e\n",
    "\n",
    "train_data['y*n_samples']= train_data.apply(lambda x: function(x.n_samples,x.n_features,x.max_iter,x.n_jobs),axis = 1)\n",
    "test_feature['y*n_samples']= test_feature.apply(lambda x: function(x.n_samples,x.n_features,x.max_iter,x.n_jobs),axis = 1)"
   ]
  },
  {
   "cell_type": "code",
   "execution_count": 11,
   "metadata": {},
   "outputs": [
    {
     "name": "stdout",
     "output_type": "stream",
     "text": [
      "\n",
      "Skew in numerical features: \n",
      "\n"
     ]
    },
    {
     "data": {
      "text/html": [
       "<div>\n",
       "<style scoped>\n",
       "    .dataframe tbody tr th:only-of-type {\n",
       "        vertical-align: middle;\n",
       "    }\n",
       "\n",
       "    .dataframe tbody tr th {\n",
       "        vertical-align: top;\n",
       "    }\n",
       "\n",
       "    .dataframe thead th {\n",
       "        text-align: right;\n",
       "    }\n",
       "</style>\n",
       "<table border=\"1\" class=\"dataframe\">\n",
       "  <thead>\n",
       "    <tr style=\"text-align: right;\">\n",
       "      <th></th>\n",
       "      <th>Skew</th>\n",
       "    </tr>\n",
       "  </thead>\n",
       "  <tbody>\n",
       "    <tr>\n",
       "      <th>y*n_samples</th>\n",
       "      <td>2.974047</td>\n",
       "    </tr>\n",
       "    <tr>\n",
       "      <th>l1_ratio</th>\n",
       "      <td>1.567313</td>\n",
       "    </tr>\n",
       "    <tr>\n",
       "      <th>penalty_l2</th>\n",
       "      <td>1.334375</td>\n",
       "    </tr>\n",
       "    <tr>\n",
       "      <th>penalty_l1</th>\n",
       "      <td>1.217562</td>\n",
       "    </tr>\n",
       "    <tr>\n",
       "      <th>penalty_none</th>\n",
       "      <td>1.094306</td>\n",
       "    </tr>\n",
       "    <tr>\n",
       "      <th>n_jobs</th>\n",
       "      <td>1.003699</td>\n",
       "    </tr>\n",
       "    <tr>\n",
       "      <th>penalty_elasticnet</th>\n",
       "      <td>0.993824</td>\n",
       "    </tr>\n",
       "    <tr>\n",
       "      <th>n_cluster</th>\n",
       "      <td>0.836670</td>\n",
       "    </tr>\n",
       "    <tr>\n",
       "      <th>alpha</th>\n",
       "      <td>0.677777</td>\n",
       "    </tr>\n",
       "    <tr>\n",
       "      <th>n_clusters_per_class</th>\n",
       "      <td>0.096758</td>\n",
       "    </tr>\n",
       "    <tr>\n",
       "      <th>flip_y</th>\n",
       "      <td>0.071185</td>\n",
       "    </tr>\n",
       "    <tr>\n",
       "      <th>n_informative</th>\n",
       "      <td>0.058689</td>\n",
       "    </tr>\n",
       "    <tr>\n",
       "      <th>n_classes</th>\n",
       "      <td>0.047920</td>\n",
       "    </tr>\n",
       "    <tr>\n",
       "      <th>max_iter</th>\n",
       "      <td>0.003860</td>\n",
       "    </tr>\n",
       "    <tr>\n",
       "      <th>n_samples</th>\n",
       "      <td>-0.041794</td>\n",
       "    </tr>\n",
       "  </tbody>\n",
       "</table>\n",
       "</div>"
      ],
      "text/plain": [
       "                          Skew\n",
       "y*n_samples           2.974047\n",
       "l1_ratio              1.567313\n",
       "penalty_l2            1.334375\n",
       "penalty_l1            1.217562\n",
       "penalty_none          1.094306\n",
       "n_jobs                1.003699\n",
       "penalty_elasticnet    0.993824\n",
       "n_cluster             0.836670\n",
       "alpha                 0.677777\n",
       "n_clusters_per_class  0.096758\n",
       "flip_y                0.071185\n",
       "n_informative         0.058689\n",
       "n_classes             0.047920\n",
       "max_iter              0.003860\n",
       "n_samples            -0.041794"
      ]
     },
     "execution_count": 11,
     "metadata": {},
     "output_type": "execute_result"
    }
   ],
   "source": [
    "numeric_feats = train_data.dtypes[train_data.dtypes != \"object\"].index\n",
    "skewed_feats = train_data[numeric_feats].apply(lambda x: skew(x.dropna())).sort_values(ascending=False)\n",
    "print(\"\\nSkew in numerical features: \\n\")\n",
    "skewness = pd.DataFrame({'Skew' :skewed_feats})\n",
    "skewness.head(15)\n"
   ]
  },
  {
   "cell_type": "code",
   "execution_count": 12,
   "metadata": {},
   "outputs": [
    {
     "name": "stdout",
     "output_type": "stream",
     "text": [
      "There are 16 skewed numerical features to Box Cox transform\n"
     ]
    }
   ],
   "source": [
    "skewness = skewness[abs(skewness) > 0.75]\n",
    "print(\"There are {} skewed numerical features to Box Cox transform\".format(skewness.shape[0]))\n",
    "skewed_features = skewness.index\n",
    "lam = 0.15\n",
    "for feat in skewed_features:\n",
    "    #all_data[feat] += 1\n",
    "    train_data[feat] = boxcox1p(train_data[feat], lam)\n",
    "    test_feature[feat] = boxcox1p(test_feature[feat], lam)"
   ]
  },
  {
   "cell_type": "code",
   "execution_count": 13,
   "metadata": {},
   "outputs": [],
   "source": [
    "# train_data.drop(columns='penalty_elasticnet',inplace=True)\n",
    "# test_feature.drop(columns='penalty_elasticnet',inplace=True)\n",
    "train_data.drop(columns='penalty_none',inplace=True)\n",
    "test_feature.drop(columns='penalty_none',inplace=True)"
   ]
  },
  {
   "cell_type": "code",
   "execution_count": 14,
   "metadata": {},
   "outputs": [],
   "source": [
    "train_data.drop(columns='n_informative',inplace=True)\n",
    "test_feature.drop(columns='n_informative',inplace=True)\n",
    "# train_data.drop(columns='flip_y',inplace=True)\n",
    "# test_feature.drop(columns='flip_y',inplace=True)\n",
    "train_data.drop(columns='n_samples',inplace=True)\n",
    "test_feature.drop(columns='n_samples',inplace=True)\n",
    "# # train_data.drop(columns='n_jobs',inplace=True)\n",
    "# # test_feature.drop(columns='n_jobs',inplace=True)\n",
    "train_data.drop(columns='n_features',inplace=True)\n",
    "test_feature.drop(columns='n_features',inplace=True)\n",
    "train_data.drop(columns='max_iter',inplace=True)\n",
    "test_feature.drop(columns='max_iter',inplace=True)"
   ]
  },
  {
   "cell_type": "code",
   "execution_count": 15,
   "metadata": {},
   "outputs": [
    {
     "name": "stdout",
     "output_type": "stream",
     "text": [
      "[[0.00000000e+00 9.99957503e-05 3.53041926e+00 ... 0.00000000e+00\n",
      "  3.12823869e+00 6.73019512e+01]\n",
      " [0.00000000e+00 9.99575262e-04 7.30463147e-01 ... 0.00000000e+00\n",
      "  3.85880666e+00 1.07778724e+02]\n",
      " [0.00000000e+00 9.95776023e-03 1.19431764e+00 ... 0.00000000e+00\n",
      "  2.88584647e+00 1.05702181e+02]\n",
      " ...\n",
      " [0.00000000e+00 9.95776023e-03 1.19431764e+00 ... 0.00000000e+00\n",
      "  4.74513240e+00 1.12488130e+02]\n",
      " [0.00000000e+00 9.95776023e-03 2.60259447e+00 ... 7.30463147e-01\n",
      "  3.53041926e+00 9.36943894e+01]\n",
      " [0.00000000e+00 9.99575262e-04 7.30463147e-01 ... 7.30463147e-01\n",
      "  1.82033410e+00 1.09773702e+02]]\n"
     ]
    }
   ],
   "source": [
    "train_X = np.array(train_X)\n",
    "print(train_X)\n",
    "mean = train_X.mean(axis=0)\n",
    "std = train_X.std(axis=0)\n",
    "\n",
    "max = train_X.max(axis=0)\n",
    "min = train_X.min(axis=0)\n",
    "\n",
    "train_X = (train_X -mean) / std\n",
    "test_feature = (test_feature - mean) / std"
   ]
  },
  {
   "cell_type": "code",
   "execution_count": null,
   "metadata": {},
   "outputs": [
    {
     "name": "stdout",
     "output_type": "stream",
     "text": [
      "_________________________________________________________________\n",
      "Layer (type)                 Output Shape              Param #   \n",
      "=================================================================\n",
      "dense (Dense)                (None, 120)               1440      \n",
      "_________________________________________________________________\n",
      "dense_1 (Dense)              (None, 120)               14520     \n",
      "_________________________________________________________________\n",
      "dense_2 (Dense)              (None, 36)                4356      \n",
      "_________________________________________________________________\n",
      "dense_3 (Dense)              (None, 1)                 37        \n",
      "=================================================================\n",
      "Total params: 20,353\n",
      "Trainable params: 20,353\n",
      "Non-trainable params: 0\n",
      "_________________________________________________________________\n"
     ]
    }
   ],
   "source": [
    "def build_model():\n",
    "  model = keras.Sequential([\n",
    "#     keras.layers.BatchNormalization(input_shape=(12,)),\n",
    "    keras.layers.Dense(120, activation=tf.nn.relu,input_shape=(train_data.shape[1],)),\n",
    "    keras.layers.Dense(120, activation=tf.nn.relu),\n",
    "    keras.layers.Dense(36, activation=tf.nn.softplus),\n",
    "#     keras.layers.Dropout(0.01),\n",
    "    keras.layers.Dense(1)\n",
    "  ])\n",
    "  optimizer = tf.train.GradientDescentOptimizer(0.001) \n",
    "#   optimizer = tf.train.RMSPropOptimizer(0.0005) \n",
    "  model.compile(loss='mse',\n",
    "                optimizer=optimizer,\n",
    "                metrics=['mae'])\n",
    "  return model\n",
    "\n",
    "model = build_model()\n",
    "model.summary()"
   ]
  },
  {
   "cell_type": "code",
   "execution_count": null,
   "metadata": {},
   "outputs": [
    {
     "name": "stdout",
     "output_type": "stream",
     "text": [
      "\n",
      "....................................................................................................\n",
      "....................................................................................................\n",
      "....................................................................................................\n",
      "....................................................................................................\n",
      "....................................................................................................\n",
      "....................................................................................................\n",
      "....................................................................................................\n",
      "....................................................................................................\n",
      "....................................................................................................\n",
      "....................................................................................................\n",
      "....................................................................................................\n",
      "....................................................................................................\n",
      "....................................................................................................\n",
      "....................................................................................................\n",
      "....................................................................................................\n",
      "....................................................................................................\n",
      "....................................................................................................\n",
      "....................................................................................................\n",
      "....................................................................................................\n",
      "......................................................................"
     ]
    }
   ],
   "source": [
    "# Display training progress by printing a single dot for each completed epoch\n",
    "class PrintDot(keras.callbacks.Callback):\n",
    "  def on_epoch_end(self, epoch, logs):\n",
    "    if epoch % 100 == 0: print('')\n",
    "    print('.', end='')\n",
    "\n",
    "EPOCHS = 2000\n",
    "\n",
    "# Store training stats\n",
    "history = model.fit(train_X, train_Y, epochs=EPOCHS,\n",
    "                    validation_split=0.2, verbose=0,batch_size=100,\n",
    "                    callbacks=[PrintDot()])"
   ]
  },
  {
   "cell_type": "code",
   "execution_count": null,
   "metadata": {},
   "outputs": [],
   "source": [
    "def plot_history(history):\n",
    "  plt.figure()\n",
    "  plt.xlabel('EPOCHS')\n",
    "  plt.ylabel('Mean Abs Error')\n",
    "  plt.plot(history.epoch, np.array(history.history['mean_absolute_error']),\n",
    "           label='Train Loss')\n",
    "  plt.plot(history.epoch, np.array(history.history['val_mean_absolute_error']),\n",
    "           label = 'Val loss')\n",
    "  plt.legend()\n",
    "  plt.ylim([0, 5])\n",
    "\n",
    "plot_history(history)"
   ]
  },
  {
   "cell_type": "code",
   "execution_count": null,
   "metadata": {},
   "outputs": [],
   "source": [
    "model = build_model()\n",
    "\n",
    "# The patience parameter is the amount of epochs to check for improvement\n",
    "early_stop = keras.callbacks.EarlyStopping(monitor='val_loss', patience=60)\n",
    "\n",
    "history = model.fit(train_X, train_Y, epochs=EPOCHS,\n",
    "                    validation_split=0.1, verbose=0,\n",
    "                    callbacks=[early_stop, PrintDot()])\n",
    "\n",
    "plot_history(history)"
   ]
  },
  {
   "cell_type": "code",
   "execution_count": null,
   "metadata": {},
   "outputs": [],
   "source": [
    "test_predictions = model.predict(test_feature).flatten()\n",
    "sub_df = pd.DataFrame(test_predictions,columns = ['time'])\n",
    "sub_df['time'] = sub_df['time'].apply(lambda x: math.exp(x))\n",
    "sub_df.to_csv(\"./5001output.csv\", index=True,index_label = 'Id')"
   ]
  },
  {
   "cell_type": "code",
   "execution_count": null,
   "metadata": {},
   "outputs": [],
   "source": []
  }
 ],
 "metadata": {
  "kernelspec": {
   "display_name": "Python 3",
   "language": "python",
   "name": "python3"
  },
  "language_info": {
   "codemirror_mode": {
    "name": "ipython",
    "version": 3
   },
   "file_extension": ".py",
   "mimetype": "text/x-python",
   "name": "python",
   "nbconvert_exporter": "python",
   "pygments_lexer": "ipython3",
   "version": "3.6.4"
  }
 },
 "nbformat": 4,
 "nbformat_minor": 2
}
